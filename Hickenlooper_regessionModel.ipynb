{
 "cells": [
  {
   "cell_type": "code",
   "execution_count": null,
   "metadata": {},
   "outputs": [],
   "source": [
    "Hickenlooper_adj_baseline = sm.add_constant(x_7)\n",
    "mod = sm.OLS(Gardner_adj, Hickenlooper_adj_baseline)\n",
    "res = mod.fit()\n",
    "print(res.summary())\n",
    "# This is the baseline model with all variables"
   ]
  },
  {
   "cell_type": "code",
   "execution_count": null,
   "metadata": {},
   "outputs": [],
   "source": [
    "Hickenlooper_adj_baseline"
   ]
  },
  {
   "cell_type": "code",
   "execution_count": null,
   "metadata": {},
   "outputs": [],
   "source": [
    "Hickenlooper_adj_baseline = Hickenlooper_adj_baseline.drop(['Ethics'], axis = 1)"
   ]
  },
  {
   "cell_type": "code",
   "execution_count": null,
   "metadata": {},
   "outputs": [],
   "source": [
    "Hickenlooper_adj_final_1 = Hickenlooper_adj_baseline\n",
    "mod = sm.OLS(Hickenlooper_adj, Hickenlooper_adj_final_1)\n",
    "res = mod.fit()\n",
    "res.summary()\n",
    "#print(res.summary())\n",
    "# This is the final model with significant variables remaining"
   ]
  },
  {
   "cell_type": "code",
   "execution_count": null,
   "metadata": {},
   "outputs": [],
   "source": [
    "Hickenlooper_adj_baseline = Hickenlooper_adj_baseline.drop(['Environment'], axis = 1)"
   ]
  },
  {
   "cell_type": "code",
   "execution_count": null,
   "metadata": {},
   "outputs": [],
   "source": [
    "Hickenlooper_adj_final_2 = Hickenlooper_adj_baseline\n",
    "mod = sm.OLS(Hickenlooper_adj, Hickenlooper_adj_final_2)\n",
    "res = mod.fit()\n",
    "res.summary()"
   ]
  },
  {
   "cell_type": "code",
   "execution_count": null,
   "metadata": {},
   "outputs": [],
   "source": [
    "Hickenlooper_adj_baseline = Hickenlooper_adj_baseline.drop(['Religion'], axis = 1)"
   ]
  },
  {
   "cell_type": "code",
   "execution_count": null,
   "metadata": {},
   "outputs": [],
   "source": [
    "Hickenlooper_adj_final_3 = Hickenlooper_adj_baseline\n",
    "mod = sm.OLS(Hickenlooper_adj, Hickenlooper_adj_final_3)\n",
    "res = mod.fit()\n",
    "res.summary()"
   ]
  },
  {
   "cell_type": "code",
   "execution_count": null,
   "metadata": {},
   "outputs": [],
   "source": [
    "Hickenlooper_adj_baseline = Hickenlooper_adj_baseline.drop(['ReprHealth'], axis = 1)"
   ]
  },
  {
   "cell_type": "code",
   "execution_count": null,
   "metadata": {},
   "outputs": [],
   "source": [
    "Hickenlooper_adj_final_4 = Hickenlooper_adj_baseline\n",
    "mod = sm.OLS(Hickenlooper_adj, Hickenlooper_adj_final_4)\n",
    "res = mod.fit()\n",
    "res.summary()"
   ]
  },
  {
   "cell_type": "code",
   "execution_count": null,
   "metadata": {},
   "outputs": [],
   "source": [
    "Hickenlooper_adj_baseline = Hickenlooper_adj_baseline.drop(['War'], axis = 1)"
   ]
  },
  {
   "cell_type": "code",
   "execution_count": null,
   "metadata": {},
   "outputs": [],
   "source": [
    "Hickenlooper_adj_final_5 = Hickenlooper_adj_baseline\n",
    "mod = sm.OLS(Hickenlooper_adj, Hickenlooper_adj_final_5)\n",
    "res = mod.fit()\n",
    "res.summary()"
   ]
  },
  {
   "cell_type": "code",
   "execution_count": null,
   "metadata": {},
   "outputs": [],
   "source": [
    "Hickenlooper_adj_baseline = Hickenlooper_adj_baseline.drop(['Healthcare'], axis = 1)"
   ]
  },
  {
   "cell_type": "code",
   "execution_count": null,
   "metadata": {},
   "outputs": [],
   "source": [
    "Hickenlooper_adj_final_6 = Hickenlooper_adj_baseline\n",
    "mod = sm.OLS(Hickenlooper_adj, Hickenlooper_adj_final_6)\n",
    "res = mod.fit()\n",
    "res.summary()"
   ]
  },
  {
   "cell_type": "code",
   "execution_count": null,
   "metadata": {},
   "outputs": [],
   "source": [
    "Hickenlooper_adj_baseline = Hickenlooper_adj_baseline.drop(['Trade_Agr'], axis = 1)"
   ]
  },
  {
   "cell_type": "code",
   "execution_count": null,
   "metadata": {},
   "outputs": [],
   "source": [
    "Hickenlooper_adj_final_7 = Hickenlooper_adj_baseline\n",
    "mod = sm.OLS(Hickenlooper_adj, Hickenlooper_adj_final_7)\n",
    "res = mod.fit()\n",
    "res.summary()"
   ]
  },
  {
   "cell_type": "code",
   "execution_count": null,
   "metadata": {},
   "outputs": [],
   "source": [
    "corrmat = Hickenlooper_adj_final_5.drop(['const'], axis = 1).corr()\n",
    "  \n",
    "f, ax = plt.subplots(figsize =(9, 8)) \n",
    "sns.heatmap(corrmat, ax = ax, cmap =\"coolwarm\", linewidths = 0.1)"
   ]
  },
  {
   "cell_type": "code",
   "execution_count": null,
   "metadata": {},
   "outputs": [],
   "source": [
    "# Variance Inflation Factor of significant variables\n",
    "pd.Series([variance_inflation_factor(Hickenlooper_adj_final_5.values, i) \n",
    "               for i in range(Hickenlooper_adj_final_5.shape[1])], \n",
    "              index=Hickenlooper_adj_final_5.columns).sort_values()"
   ]
  },
  {
   "cell_type": "code",
   "execution_count": null,
   "metadata": {},
   "outputs": [],
   "source": []
  },
  {
   "cell_type": "code",
   "execution_count": null,
   "metadata": {},
   "outputs": [],
   "source": []
  },
  {
   "cell_type": "code",
   "execution_count": null,
   "metadata": {},
   "outputs": [],
   "source": []
  }
 ],
 "metadata": {
  "kernelspec": {
   "display_name": "Python 3",
   "language": "python",
   "name": "python3"
  },
  "language_info": {
   "codemirror_mode": {
    "name": "ipython",
    "version": 3
   },
   "file_extension": ".py",
   "mimetype": "text/x-python",
   "name": "python",
   "nbconvert_exporter": "python",
   "pygments_lexer": "ipython3",
   "version": "3.7.4"
  }
 },
 "nbformat": 4,
 "nbformat_minor": 4
}
